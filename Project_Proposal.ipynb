{
  "cells": [
    {
      "cell_type": "markdown",
      "metadata": {
        "id": "view-in-github",
        "colab_type": "text"
      },
      "source": [
        "<a href=\"https://colab.research.google.com/github/ecradaza/CS132MP/blob/main/Project_Proposal.ipynb\" target=\"_parent\"><img src=\"https://colab.research.google.com/assets/colab-badge.svg\" alt=\"Open In Colab\"/></a>"
      ]
    },
    {
      "cell_type": "markdown",
      "metadata": {
        "id": "bbn3oeQOtucF"
      },
      "source": [
        "###Proponents\n",
        "- Alliah Nicole Cortez - THX\n",
        "- Marie Francheska Masangkay - THX\n",
        "- Eleanor Radaza - THX\n",
        "- Carl John Songsong - THX\n"
      ]
    },
    {
      "cell_type": "markdown",
      "metadata": {
        "id": "FC4wlDwbt6dO"
      },
      "source": [
        "##Project Summary"
      ]
    },
    {
      "cell_type": "markdown",
      "metadata": {
        "id": "qpNWGy2at-vy"
      },
      "source": [
        "##Background\n",
        "\n",
        "Scholars, journalists, and climate activists frequently distinguish between \"individual\" and \"systemic\" approaches to carbon reduction. The former is concerned with individual citizen actions and consumption decisions that can be made to lower their \"personal carbon footprint\" (e.g. eating less meat). The latter, on the other hand, focuses on the institutions that shape collective action. While the distinction between individualism and structuralism – which we define broadly to include approaches described as \"institutional,\" \"systemic,\" and \"collectivist\" – is intuitive and widely accepted, the two approaches are frequently depicted as antagonistic, as if one is the superior route to decarbonization and pursuing the other is somehow antithetical to pursuing the other. [](#cite-brownstein2022individualism)."
      ]
    },
    {
      "cell_type": "markdown",
      "metadata": {
        "id": "atcGSRyYuR_1"
      },
      "source": [
        "##Materials and Method for Data Collection"
      ]
    },
    {
      "cell_type": "markdown",
      "metadata": {
        "id": "Cbv96NJnuU7l"
      },
      "source": [
        "###References"
      ]
    },
    {
      "cell_type": "markdown",
      "metadata": {
        "id": "oQT007GQ1jpL"
      },
      "source": [
        "<!--bibtex\n",
        "\n",
        "@misc{amnestyintlUK, \n",
        "    url={https://www.amnesty.org.uk/philippines-country-most-risk-climate-crisis}, \n",
        "    journal={Amnesty International UK}, \n",
        "    publisher={www.amnesty.org.uk},\n",
        "    howpublished = {Amnesty International UK, \\url{https://www.stillmantranslations.com/corporate-responsibility-environment/}}\n",
        "}\n",
        "\n",
        "@article{brownstein2022individualism,\n",
        "    title={Individualism, Structuralism, and Climate Change},\n",
        "    author={Brownstein, Michael and Kelly, Daniel and Madva, Alex},\n",
        "    journal={Environmental Communication},\n",
        "    volume={16},\n",
        "    number={2},\n",
        "    pages={269--288},\n",
        "    year={2022},\n",
        "    publisher={Taylor \\& Francis}\n",
        "}\n",
        "\n",
        "@misc{stillmantranslations2020, \n",
        "    title={Corporate responsibility towards the environment – urgent and possible -}, \n",
        "    url={https://www.stillmantranslations.com/corporate-responsibility-environment/},\n",
        "    journal={Stillman Translations}, \n",
        "    year={2020}, \n",
        "    month={Nov},\n",
        "    howpublished = {Stillman Translations, \\url{https://www.stillmantranslations.com/corporate-responsibility-environment/}}\n",
        "} \n",
        "\n",
        "\n",
        "@article{nowlin2022should,\n",
        "    title={Who should “do more” about climate change? Cultural theory, polycentricity, and public support for climate change actions across actors and governments},\n",
        "    author={Nowlin, Matthew C},\n",
        "    journal={Review of Policy Research},\n",
        "    year={2022},\n",
        "    publisher={Wiley Online Library}\n",
        "}\n",
        "\n",
        "\n",
        "@article{palos2018effect,\n",
        "    title={The effect of internet searches on afforestation: The case of a green search engine},\n",
        "    author={Palos-Sanchez, Pedro and Saura, Jose Ramon},\n",
        "    journal={Forests},\n",
        "    volume={9},\n",
        "    number={2},\n",
        "    pages={51},\n",
        "    year={2018},\n",
        "    publisher={Multidisciplinary Digital Publishing Institute}\n",
        "}\n",
        "\n",
        "@misc{jmsagum2022, \n",
        "    title={2022 presidential elections}, \n",
        "    url={https://www.greenpeace.org/philippines/act/love-52/2022-presidential-elections/}, \n",
        "    journal={Greenpeace Philippines}, \n",
        "    publisher={Greenpeace.org}, author={Jmsagum}, \n",
        "    year={2022},\n",
        "    howpublished = {Greenpeace Philippines, \\url{https://www.greenpeace.org/philippines/act/love-52/2022-presidential-elections/}}\n",
        "} \n",
        "\n",
        "@misc{Bautista2022, \n",
        "    title={FYI, We Only Have 3-8 Years To Lessen Climate Change - NYLON MANILA}, \n",
        "    url={https://nylonmanila.com/only-have-3-8-years-to-lessen-climate-change/}, \n",
        "    journal={NYLON MANILA - Big, Bold, and Brave}, \n",
        "    publisher={nylonmanila.com}, author={Bautista, Rafael}, \n",
        "    year={2022}, \n",
        "    month={Apr},\n",
        "    howpublished = {NYLON MANILA - Big, Bold, and Brave, \\url{https://nylonmanila.com/only-have-3-8-years-to-lessen-climate-change/}} \n",
        "}\n",
        "\n",
        "@misc{Freedman2022, \n",
        "    title={Major UN climate change report: 5 key takeaways}, \n",
        "    url={https://www.axios.com/un-climate-report-takeaways-ed84d4e7-8a2e-4963-bd3a-8f9535f06f1a.html}, \n",
        "    journal={Axios}, \n",
        "    publisher={www.axios.com}, \n",
        "    author={Freedman, Andrew}, \n",
        "    year={2022}, \n",
        "    month={Apr} ,\n",
        "    howpublished = {Axios, \\url{https://www.axios.com/un-climate-report-takeaways-ed84d4e7-8a2e-4963-bd3a-8f9535f06f1a.html}} \n",
        "}\n",
        "\n",
        "@article{verweij2006clumsy,\n",
        "    title={Clumsy solutions for a complex world: the case of climate change},\n",
        "    author={Verweij, Marco and Douglas, Mary and Ellis, Richard and Engel, Christoph and Hendriks, Frank and Lohmann, Susanne and Ney, Steven and Rayner, Steve and Thompson, Michael},\n",
        "    journal={Public administration},\n",
        "    volume={84},\n",
        "    number={4},\n",
        "    pages={817--843},\n",
        "    year={2006},\n",
        "    publisher={Wiley Online Library}\n",
        "}\n",
        "\n",
        "-->\n",
        "\n"
      ]
    }
  ],
  "metadata": {
    "colab": {
      "collapsed_sections": [],
      "name": "Project Proposal.ipynb",
      "provenance": [],
      "authorship_tag": "ABX9TyOcYqL6WwBUsWxQ9QImxBwT",
      "include_colab_link": true
    },
    "kernelspec": {
      "display_name": "Python 3",
      "name": "python3"
    },
    "language_info": {
      "name": "python"
    }
  },
  "nbformat": 4,
  "nbformat_minor": 0
}