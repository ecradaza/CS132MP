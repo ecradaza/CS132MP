{
 "cells": [
  {
   "cell_type": "markdown",
   "metadata": {
    "colab_type": "text",
    "id": "view-in-github"
   },
   "source": [
    "<a href=\"https://colab.research.google.com/github/ecradaza/CS132MP/blob/main/Project_Proposal.ipynb\" target=\"_parent\"><img src=\"https://colab.research.google.com/assets/colab-badge.svg\" alt=\"Open In Colab\"/></a>"
   ]
  },
  {
   "cell_type": "markdown",
   "metadata": {
    "id": "bbn3oeQOtucF"
   },
   "source": [
    "### Proponents"
   ]
  },
  {
   "cell_type": "markdown",
   "metadata": {},
   "source": [
    "- Alliah Nicole Cortez - THX\n",
    "- Marie Francheska Masangkay - THX\n",
    "- Eleanor Radaza - THX\n",
    "- Carl John Songsong - THX"
   ]
  },
  {
   "cell_type": "markdown",
   "metadata": {
    "id": "FC4wlDwbt6dO"
   },
   "source": [
    "## Project Summary"
   ]
  },
  {
   "cell_type": "markdown",
   "metadata": {},
   "source": [
    "The goal of the project is to know how people see what could be done to mitigate climate change, whether they want government action or think that climate change could be mitigated through our individual actions. \n",
    "\n",
    "According to a report published in 2019 by the Institute for Economics and Peace, the Philippines is the country most at risk from climate change. Among the effects of climate change are extreme weather, rising sea levels and death of sea life.1 All of these would have an impact on the economy. Stronger typhoons, for example, could disrupt the livelihoods of people in the affected areas, while death of sea life would mean dwindling fish catch for fishermen and consequently, higher fish prices. Not to mention that a part of the capital could be underwater by 2100. [](#cite-amnestyintlUK)\n",
    "\n",
    "As such, climate change should be a focus of whoever will win in this year’s National Elections.\n",
    "\n",
    "Actions to take against climate change could be classified into (1) voluntary or (2) systemic, through laws. It is important to know how people see what could be done to mitigate climate change as creating laws to switch to renewable energy, for example, or imposing a carbon tax on businesses, could be met with huge opposition, especially since they could increase the prices of goods and affect economic growth. Therefore it is important, before the  government could create such laws, to get the support of the people.\n",
    "\n",
    "One limitation of this study is that it might not be possible to filter out tweets that are not from the Philippines, so instead of, determining whether Filipinos think that climate change could be mitigated using an individualistic or a systemic approach, we can only determine whether people, in general, believe that an individualistic approach could work or if they believe that a systemic approach is necessary.\n",
    "\n",
    "Despite this limitation, the insight that we could gain from this study will still be useful as climate change is a global problem, which can only be solved if countries work together to lessen our carbon emissions.\n",
    "\n",
    "The project will be divided into three stages. In the first stage, we will be getting climate change-related tweets from Twitter through a bot using a list of keywords related to climate change. In the second stage, we will be creating a predictor for the tweets – the predictor will predict whether the tweet is calling for individual or for government action against climate change. In order to do this, we will select tweets from the tweets that we got in the first stage and then create a dataset by classifying each tweet as whether it is calling for individual or for government action. Then, we will divide the dataset into a train set and a test set and then select the classification algorithm for the predictor through its performance on the test set. And finally, in the last stage, we will be using the predictor on the rest of the tweets not part of the dataset.  "
   ]
  },
  {
   "cell_type": "markdown",
   "metadata": {
    "id": "qpNWGy2at-vy"
   },
   "source": [
    "## Background"
   ]
  },
  {
   "cell_type": "markdown",
   "metadata": {},
   "source": [
    "Scholars, journalists, and climate activists frequently distinguish between \"individual\" and \"systemic\" approaches to carbon reduction. The former is concerned with individual citizen actions and consumption decisions that can be made to lower their \"personal carbon footprint\" (e.g. eating less meat). The latter, on the other hand, focuses on the institutions that shape collective action. While the distinction between individualism and structuralism – which we define broadly to include approaches described as \"institutional,\" \"systemic,\" and \"collectivist\" – is intuitive and widely accepted, the two approaches are frequently depicted as antagonistic, as if one is the superior route to decarbonization and pursuing the other is somehow antithetical to pursuing the other. [](#cite-brownstein2022individualism)\n",
    "\n",
    "This study aims to ask about the perception on how Filipinos see how we can resolve climate change, whether it is individualistic vs structuralist.\n",
    "\n",
    "“Environmental protection is, of course, as much an individual responsibility as it is a collective one, but research has proven that companies play a fundamental role in slowing down climate change.” [](#cite-stillmantranslations2020)\n",
    "\n",
    "Because such large-scale collective action from a variety of actors is required, a polycentric approach should be used to view climate action. A polycentric approach means that climate policy authority is distributed across multiple scales, including government levels and private actors, and that actions at each scale influence shared outcomes. [](#cite-nowlin2022should)\n",
    " \n",
    "Changes in social institutions and structures, in general, are accompanied by changes in people's ideas. Individuals' voting and purchasing decisions are influenced by societal influences that make available options appealing or unappealing, simple or difficult, efficient or inefficient, and so on. While it is true that establishing a structurally-oriented change such as a carbon tax necessitates individualist thinking, it is also true that convincing individuals to support the proper reforms necessitates structuralist thinking. Research into how companies, regulations, media organizations, culture, and communication impact people's preferred architectures is thus critical for developing more synergistic methods to decarbonization.[](#cite-brownstein2022individualism)}.\n",
    "\n",
    "\n",
    "\n",
    "Avoiding the use of plastic straws is one example of a more individualized approach. While plastics are bad for the environment, alternative materials aren't always much better. Some communities that have proposed or approved guidelines have included a provision in their legislation that authorizes the use of biodegradable, paper, or reusable metal straws. These materials, like plastic straws, need significant inputs (in fact, paper straws may cause greater air pollution), and they all generate waste. Coated paper straws can kill sea life in the same way as plastic straws do. Another issue with these options, which may go deeper into the root of the plastic problem in general, is that offering alternatives has no influence on the user's behavior. The larger issue with single-use goods (and the general inclination for convenience) is that most consumers and businesses do not consider whether or not to include a straw (or other disposable items such as napkins or paper receipts) with their meal. The idea was that by asking for \"no straw\" in a drink, a person would pay intentional attention to the materials they were using and make an outward decision to restrict their material effect, which alternative-material straws completely disregard. [](#cite-arkesteyn2020framing).\n",
    "\n",
    "Another example of a more personalized approach is the hashtag $\\#$LetTheEarthBreathe, which swiftly trended on social media as many social media users raised awareness of how severe the issue is and how quickly time is running out. This was in reaction to a UN study stating that the world has to achieve \"rapid and profound reduction\" in greenhouse gas emissions over the next several years in order to avert the disastrous impacts of climate change (that we are already seeing). The research specifically urges for global greenhouse gas emissions to peak before 2025 in order to stay at or below the planned 1.5 degrees Celsius annual temperature increase [](#cite-Freedman2022). Posts on Facebook encouraging Filipinos to adopt individual climate actions spread like wildfire. To minimize carbon emissions, everyone is being pushed to change their lifestyle by saving power, switching to LED lighting, and even deleting useless emails. However, these internet appeals to action did not properly reflect what the scientific protest stood for [](#cite-Bautista2022).\n",
    "\n",
    "Ecosia, an Internet search engine that uses advertising income to plant trees, is an example of a symbiotic connection between individuals and businesses. The thought of a corporation growing trees to help alleviate the consequences of climate change has enthralled Internet surfers. Few people, however, support the idea of switching from traditional search engines to Ecosia, a search engine with higher compatibility rates and lower hardware resources, and ecological marketing is a viable and future approach for increasing the desire to use a technological product. A search engine or other verifiable Internet service can also help mitigate the consequences of deforestation and climate change. Additionally, enterprises, particularly technical start-ups, should consider the fact that users prefer to utilize these tools. Finally, foundations and non-governmental organizations must assist initiatives to alleviate the impacts of deforestation. Companies must support technology services and follow Ecosia.org's lead in order to increase consumer satisfaction through ecological marketing tactics.\n",
    "[](#cite-palos2018effect)\n",
    "\n",
    "Given the limited time and energy at our disposal, the most pressing question is not whether to pursue individual or structural change, but which governmental, economic, and social institutions we should strive towards, and what practical roles individuals may play in those efforts. Of course, there has been a great deal of research on comparative structural reform schemes. These packages, however, do not have to be presented as alternatives to conventional strategies for influencing people's decisions and behavior. Instead of showing them as incompatible change genres, both might be portrayed as required components of multidimensional interventions, as well as components of coordinated strategies that must be implemented concurrently. Individual and structural components are present in all interventions aiming at creating social change, and as some have long contended, the individual and structural components of any intervention are related. As a result, so-called structural changes always require the support and implementation of individuals, yet individual decisions are always influenced by social structures, which change when individuals direct their agency toward changing them. [](#cite-brownstein2022individualism)\n",
    "\n",
    "The Philippines is already one of the countries most heavily impacted by the global warming disaster. However, if global temperatures continue to rise, the current scenario will deteriorate. The next government will steer the country's trajectory for six of the eight years leading up to 2030, so it must be ready with specific plans that will not only assure communities' capacity to manage and adapt, but will also demand responsibility from the developed nations and businesses most responsible for the issue, even as we pursue mitigation and a swift transition away from fossil fuels on a national level. Climate and environmental preservation will only be successful if the government encourages citizens to participate in all parts of governance, protects and defends human rights, stimulates openness and information sharing, and combats corruption. As a result, the next president must work to create inclusive, transparent, and exciting governing systems that are really responsible to the people, while also emphasizing our collective rights to social, economic, cultural, and environmental dignity.\n",
    "[](#cite-jmsagum2022)"
   ]
  },
  {
   "cell_type": "markdown",
   "metadata": {
    "id": "atcGSRyYuR_1"
   },
   "source": [
    "## Materials and Method for Data Collection"
   ]
  },
  {
   "cell_type": "markdown",
   "metadata": {},
   "source": [
    "## References"
   ]
  },
  {
   "cell_type": "markdown",
   "metadata": {
    "id": "oQT007GQ1jpL"
   },
   "source": [
    "<!--bibtex\n",
    "\n",
    "@misc{amnestyintlUK, \n",
    "    url={https://www.amnesty.org.uk/philippines-country-most-risk-climate-crisis}, \n",
    "    journal={Amnesty International UK}, \n",
    "    publisher={www.amnesty.org.uk},\n",
    "    howpublished = {Amnesty International UK, \\url{https://www.stillmantranslations.com/corporate-responsibility-environment/}}\n",
    "}\n",
    "\n",
    "@article{brownstein2022individualism,\n",
    "    title={Individualism, Structuralism, and Climate Change},\n",
    "    author=\"Michael {Brownstein} and Daniel {Kelly} and Alex {Madva}\",\n",
    "    journal={Environmental Communication},\n",
    "    volume={16},\n",
    "    number={2},\n",
    "    pages={269--288},\n",
    "    year={2022},\n",
    "    publisher={Taylor \\& Francis}\n",
    "}\n",
    "\n",
    "@misc{stillmantranslations2020, \n",
    "    title={Corporate responsibility towards the environment – urgent and possible -}, \n",
    "    url={https://www.stillmantranslations.com/corporate-responsibility-environment/},\n",
    "    journal={Stillman Translations}, \n",
    "    year={2020}, \n",
    "    month={Nov},\n",
    "    howpublished = {Stillman Translations, \\url{https://www.stillmantranslations.com/corporate-responsibility-environment/}}\n",
    "} \n",
    "\n",
    "\n",
    "@article{nowlin2022should,\n",
    "    title={Who should “do more” about climate change? Cultural theory, polycentricity, and public support for climate change actions across actors and governments},\n",
    "    author={Nowlin, Matthew C},\n",
    "    journal={Review of Policy Research},\n",
    "    year={2022},\n",
    "    publisher={Wiley Online Library}\n",
    "}\n",
    "\n",
    "\n",
    "@article{palos2018effect,\n",
    "    title={The effect of internet searches on afforestation: The case of a green search engine},\n",
    "    author={Palos-Sanchez, Pedro and Saura, Jose Ramon},\n",
    "    journal={Forests},\n",
    "    volume={9},\n",
    "    number={2},\n",
    "    pages={51},\n",
    "    year={2018},\n",
    "    publisher={Multidisciplinary Digital Publishing Institute}\n",
    "}\n",
    "\n",
    "@misc{jmsagum2022, \n",
    "    title={2022 presidential elections}, \n",
    "    url={https://www.greenpeace.org/philippines/act/love-52/2022-presidential-elections/}, \n",
    "    journal={Greenpeace Philippines}, \n",
    "    publisher={Greenpeace.org}, author={Jmsagum}, \n",
    "    year={2022},\n",
    "    howpublished = {Greenpeace Philippines, \\url{https://www.greenpeace.org/philippines/act/love-52/2022-presidential-elections/}}\n",
    "} \n",
    "\n",
    "@misc{Bautista2022, \n",
    "    title={FYI, We Only Have 3-8 Years To Lessen Climate Change - NYLON MANILA}, \n",
    "    url={https://nylonmanila.com/only-have-3-8-years-to-lessen-climate-change/}, \n",
    "    journal={NYLON MANILA - Big, Bold, and Brave}, \n",
    "    publisher={nylonmanila.com}, author={Bautista, Rafael}, \n",
    "    year={2022}, \n",
    "    month={Apr},\n",
    "    howpublished = {NYLON MANILA - Big, Bold, and Brave, \\url{https://nylonmanila.com/only-have-3-8-years-to-lessen-climate-change/}} \n",
    "}\n",
    "\n",
    "@misc{Freedman2022, \n",
    "    title={Major UN climate change report: 5 key takeaways}, \n",
    "    url={https://www.axios.com/un-climate-report-takeaways-ed84d4e7-8a2e-4963-bd3a-8f9535f06f1a.html}, \n",
    "    journal={Axios}, \n",
    "    publisher={www.axios.com}, \n",
    "    author={Freedman, Andrew}, \n",
    "    year={2022}, \n",
    "    month={Apr} ,\n",
    "    howpublished = {Axios, \\url{https://www.axios.com/un-climate-report-takeaways-ed84d4e7-8a2e-4963-bd3a-8f9535f06f1a.html}} \n",
    "}\n",
    "\n",
    "@article{verweij2006clumsy,\n",
    "    title={Clumsy solutions for a complex world: the case of climate change},\n",
    "    author={Verweij, Marco and Douglas, Mary and Ellis, Richard and Engel, Christoph and Hendriks, Frank and Lohmann, Susanne and Ney, Steven and Rayner, Steve and Thompson, Michael},\n",
    "    journal={Public administration},\n",
    "    volume={84},\n",
    "    number={4},\n",
    "    pages={817--843},\n",
    "    year={2006},\n",
    "    publisher={Wiley Online Library}\n",
    "}\n",
    "\n",
    "-->\n",
    "\n"
   ]
  }
 ],
 "metadata": {
  "colab": {
   "authorship_tag": "ABX9TyOcYqL6WwBUsWxQ9QImxBwT",
   "collapsed_sections": [],
   "include_colab_link": true,
   "name": "Project Proposal.ipynb",
   "provenance": []
  },
  "kernelspec": {
   "display_name": "Python 3",
   "language": "python",
   "name": "python3"
  },
  "language_info": {
   "codemirror_mode": {
    "name": "ipython",
    "version": 3
   },
   "file_extension": ".py",
   "mimetype": "text/x-python",
   "name": "python",
   "nbconvert_exporter": "python",
   "pygments_lexer": "ipython3",
   "version": "3.8.5"
  }
 },
 "nbformat": 4,
 "nbformat_minor": 1
}
